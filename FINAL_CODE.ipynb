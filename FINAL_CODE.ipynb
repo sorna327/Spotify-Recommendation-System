{
  "cells": [
    {
      "cell_type": "code",
      "execution_count": null,
      "metadata": {
        "id": "lakC-FmY4RLB"
      },
      "outputs": [],
      "source": [
        "import pandas as pd\n",
        "import numpy as np\n",
        "from sklearn.preprocessing import StandardScaler\n",
        "from sklearn.decomposition import PCA\n",
        "from sklearn.neighbors import NearestNeighbors\n",
        "from sklearn.cluster import KMeans\n",
        "from sklearn.metrics.pairwise import cosine_similarity"
      ]
    },
    {
      "cell_type": "code",
      "execution_count": null,
      "metadata": {
        "id": "vJwqZ2eT4a6S",
        "colab": {
          "base_uri": "https://localhost:8080/"
        },
        "outputId": "f2065b2d-65f9-4598-ab70-dc475d333453"
      },
      "outputs": [
        {
          "output_type": "stream",
          "name": "stderr",
          "text": [
            "<ipython-input-17-1e552ec5ee4b>:1: DtypeWarning: Columns (20) have mixed types. Specify dtype option on import or set low_memory=False.\n",
            "  df = pd.read_csv('/content/op.csv')\n"
          ]
        }
      ],
      "source": [
        "df = pd.read_csv('/content/op.csv')\n",
        "df.columns\n",
        "df1 = df.iloc[:, 0:21]\n",
        "df1.dropna(inplace=True)\n",
        "df1.drop_duplicates(subset=\"id\", keep=\"first\", inplace=True)"
      ]
    },
    {
      "cell_type": "code",
      "execution_count": null,
      "metadata": {
        "colab": {
          "base_uri": "https://localhost:8080/"
        },
        "id": "lTJ8aFPz4a-N",
        "outputId": "0d815e64-efb5-4781-9218-ee21df30aa28"
      },
      "outputs": [
        {
          "output_type": "execute_result",
          "data": {
            "text/plain": [
              "(18352, 21)"
            ]
          },
          "metadata": {},
          "execution_count": 18
        }
      ],
      "source": [
        "df1.shape"
      ]
    },
    {
      "cell_type": "code",
      "execution_count": null,
      "metadata": {
        "id": "qcjay0cP4bBH"
      },
      "outputs": [],
      "source": [
        "audio_features = df1.iloc[:, 0:11]\n"
      ]
    },
    {
      "cell_type": "code",
      "execution_count": null,
      "metadata": {
        "id": "MAmNGFr3iqAv"
      },
      "outputs": [],
      "source": [
        "scaler = StandardScaler()\n",
        "scaled_audio_features = scaler.fit_transform(audio_features)"
      ]
    },
    {
      "cell_type": "code",
      "execution_count": null,
      "metadata": {
        "colab": {
          "base_uri": "https://localhost:8080/"
        },
        "id": "3gPL2vbsiujW",
        "outputId": "eb15cafc-ad35-426c-9635-bf8bb2c14691"
      },
      "outputs": [
        {
          "data": {
            "text/plain": [
              "array([[-1.63891055,  1.02057652,  0.86898795, ..., -0.30267307,\n",
              "        -0.92199266, -0.12764474],\n",
              "       [-1.63875205,  0.32928528, -0.93261248, ..., -0.36045741,\n",
              "        -0.5083696 , -1.25725872],\n",
              "       [-1.63859355,  1.13784914,  1.31237248, ..., -0.36043956,\n",
              "         1.17528837, -1.61916146],\n",
              "       ...,\n",
              "       [ 1.77213591, -1.54707667, -0.62392705, ..., -0.36045741,\n",
              "        -0.4818553 ,  0.46486976],\n",
              "       [ 1.77229441,  0.73665333, -0.06268081, ..., -0.35191913,\n",
              "        -0.62768394,  0.37109048],\n",
              "       [ 1.7724529 ,  0.50210809,  0.97001227, ..., -0.36039747,\n",
              "        -0.4288267 ,  1.33872207]])"
            ]
          },
          "execution_count": 50,
          "metadata": {},
          "output_type": "execute_result"
        }
      ],
      "source": [
        "scaled_audio_features"
      ]
    },
    {
      "cell_type": "markdown",
      "metadata": {
        "id": "VhkQg3EErcrd"
      },
      "source": [
        "Hierarchical Clustering:"
      ]
    },
    {
      "cell_type": "code",
      "execution_count": null,
      "metadata": {
        "id": "hd7vnKWDonEC"
      },
      "outputs": [],
      "source": [
        "from scipy.cluster.hierarchy import linkage, dendrogram\n",
        "\n",
        "# Compute the linkage matrix using Ward's method\n",
        "Z = linkage(scaled_audio_features, method='ward')\n"
      ]
    },
    {
      "cell_type": "code",
      "execution_count": null,
      "metadata": {
        "id": "oa8L4Adjt7vs"
      },
      "outputs": [],
      "source": [
        "# Plot a dendrogram to visualize the clustering hierarchy\n",
        "dendrogram(Z)"
      ]
    },
    {
      "cell_type": "markdown",
      "metadata": {
        "id": "yiCTmFm3rloB"
      },
      "source": [
        "DBSCAN Clustering:"
      ]
    },
    {
      "cell_type": "code",
      "execution_count": null,
      "metadata": {
        "colab": {
          "base_uri": "https://localhost:8080/"
        },
        "id": "gZ3KRBOconKs",
        "outputId": "e621e6ac-ba82-49a3-ee5c-088a1a612f18"
      },
      "outputs": [
        {
          "name": "stdout",
          "output_type": "stream",
          "text": [
            "-1    18296\n",
            " 6        9\n",
            " 2        8\n",
            " 1        7\n",
            " 3        7\n",
            " 0        5\n",
            " 7        5\n",
            " 4        5\n",
            " 5        5\n",
            " 8        5\n",
            "Name: cluster, dtype: int64\n"
          ]
        }
      ],
      "source": [
        "from sklearn.cluster import DBSCAN\n",
        "\n",
        "# Create a DBSCAN object with the desired parameters\n",
        "dbscan = DBSCAN(eps=0.5, min_samples=5)\n",
        "\n",
        "# Fit the model to the data and get the cluster labels\n",
        "labels = dbscan.fit_predict(scaled_audio_features)\n",
        "\n",
        "# Add the cluster labels to the original dataframe\n",
        "df1['cluster'] = labels\n",
        "\n",
        "# Print the number of songs in each cluster\n",
        "print(df1['cluster'].value_counts())\n"
      ]
    },
    {
      "cell_type": "markdown",
      "metadata": {
        "id": "UzfO0cXIrtOT"
      },
      "source": [
        "MeanShift Clustering:"
      ]
    },
    {
      "cell_type": "code",
      "execution_count": null,
      "metadata": {
        "colab": {
          "base_uri": "https://localhost:8080/"
        },
        "id": "SCDJu86UonOI",
        "outputId": "faac0e8c-1873-405e-a500-6c15e6e75969"
      },
      "outputs": [
        {
          "name": "stdout",
          "output_type": "stream",
          "text": [
            "0    18261\n",
            "1       64\n",
            "2       27\n",
            "Name: cluster, dtype: int64\n"
          ]
        }
      ],
      "source": [
        "from sklearn.cluster import MeanShift, estimate_bandwidth\n",
        "\n",
        "# Estimate the bandwidth parameter using the median distance\n",
        "bandwidth = estimate_bandwidth(scaled_audio_features, quantile=0.2)\n",
        "\n",
        "# Create a MeanShift object with the estimated bandwidth\n",
        "meanshift = MeanShift(bandwidth=bandwidth)\n",
        "\n",
        "# Fit the model to the data and get the cluster labels\n",
        "labels = meanshift.fit_predict(scaled_audio_features)\n",
        "\n",
        "# Add the cluster labels to the original dataframe\n",
        "df1['cluster'] = labels\n",
        "\n",
        "# Print the number of songs in each cluster\n",
        "print(df1['cluster'].value_counts())\n"
      ]
    },
    {
      "cell_type": "markdown",
      "metadata": {
        "id": "RWy8-wxNrvKW"
      },
      "source": [
        "Spectral Clustering:"
      ]
    },
    {
      "cell_type": "code",
      "execution_count": null,
      "metadata": {
        "colab": {
          "base_uri": "https://localhost:8080/"
        },
        "id": "MnzSxomlonQ8",
        "outputId": "2323da6f-6d79-449a-91a4-0ddcddde4337"
      },
      "outputs": [
        {
          "name": "stdout",
          "output_type": "stream",
          "text": [
            "0    9779\n",
            "1    6881\n",
            "9    1662\n",
            "6       7\n",
            "8       6\n",
            "4       5\n",
            "7       4\n",
            "5       4\n",
            "3       2\n",
            "2       2\n",
            "Name: cluster, dtype: int64\n"
          ]
        }
      ],
      "source": [
        "from sklearn.cluster import SpectralClustering\n",
        "\n",
        "# Create a SpectralClustering object with the desired parameters\n",
        "spectral = SpectralClustering(n_clusters=10, assign_labels='discretize', random_state=42)\n",
        "\n",
        "# Fit the model to the data and get the cluster labels\n",
        "labels = spectral.fit_predict(scaled_audio_features)\n",
        "\n",
        "# Add the cluster labels to the original dataframe\n",
        "df1['cluster'] = labels\n",
        "\n",
        "# Print the number of songs in each cluster\n",
        "print(df1['cluster'].value_counts())\n"
      ]
    },
    {
      "cell_type": "markdown",
      "metadata": {
        "id": "QGqFri21r1rc"
      },
      "source": [
        "Evaluating clustering solutions- Sum of the Squared Error:"
      ]
    },
    {
      "cell_type": "code",
      "execution_count": null,
      "metadata": {
        "colab": {
          "base_uri": "https://localhost:8080/"
        },
        "id": "syO4zi0gZtfJ",
        "outputId": "44109a79-27e9-44f0-823d-6a107a8e02c0"
      },
      "outputs": [
        {
          "output_type": "stream",
          "name": "stderr",
          "text": [
            "/usr/local/lib/python3.9/dist-packages/sklearn/cluster/_kmeans.py:870: FutureWarning: The default value of `n_init` will change from 10 to 'auto' in 1.4. Set the value of `n_init` explicitly to suppress the warning\n",
            "  warnings.warn(\n"
          ]
        },
        {
          "output_type": "stream",
          "name": "stdout",
          "text": [
            "28    352\n",
            "75    323\n",
            "84    321\n",
            "61    310\n",
            "26    298\n",
            "     ... \n",
            "71     89\n",
            "19     85\n",
            "60     82\n",
            "63     78\n",
            "54     71\n",
            "Name: cluster, Length: 100, dtype: int64\n"
          ]
        }
      ],
      "source": [
        "model = KMeans(n_clusters=100)\n",
        "# Fit the model to the data\n",
        "model.fit(scaled_audio_features)\n",
        "\n",
        "# Get the cluster labels for each data point\n",
        "labels = model.labels_\n",
        "\n",
        "# Add the cluster labels to the original dataframe\n",
        "df1['cluster'] = labels\n",
        "\n",
        "# Print the number of songs in each cluster\n",
        "print(df1['cluster'].value_counts())"
      ]
    },
    {
      "cell_type": "code",
      "execution_count": null,
      "metadata": {
        "colab": {
          "base_uri": "https://localhost:8080/"
        },
        "id": "Lu3USJVikhFs",
        "outputId": "05a998b8-21b2-4e71-daa3-841171c6cfe7"
      },
      "outputs": [
        {
          "output_type": "stream",
          "name": "stdout",
          "text": [
            "SSE for the clustering solution: 57456.24200521049\n"
          ]
        }
      ],
      "source": [
        "# Calculate the SSE for the clustering solution\n",
        "sse = 0\n",
        "for i in range(100):\n",
        "    cluster_points = scaled_audio_features[labels == i]\n",
        "    centroid = model.cluster_centers_[i]\n",
        "    sse += np.sum((cluster_points - centroid) ** 2)\n",
        "\n",
        "# Print the SSE\n",
        "print(\"SSE for the clustering solution:\", sse)\n"
      ]
    },
    {
      "cell_type": "code",
      "execution_count": null,
      "metadata": {
        "colab": {
          "base_uri": "https://localhost:8080/"
        },
        "id": "oIYIdB-Gpjcf",
        "outputId": "fdfebfd5-6dcc-4b2b-a9e5-daa3ec06bf47"
      },
      "outputs": [
        {
          "name": "stdout",
          "output_type": "stream",
          "text": [
            "Kid Cudi (Remix)\n",
            "Slidin\n",
            "THROW DAT SET FT. B GIBS\n",
            "Dead Body Vandal\n",
            "Pop Out (feat. Lil Tjay)\n",
            "Brand New\n",
            "Opp Block Spinners\n",
            "Xoxo\n",
            "PATNAH DEM\n"
          ]
        }
      ],
      "source": [
        "audio_features = df1.iloc[:, 0:11].values\n",
        "scaler = StandardScaler()\n",
        "scaled_audio_features = scaler.fit_transform(audio_features)\n",
        "similarity_matrix = cosine_similarity(scaled_audio_features)\n",
        "knn = NearestNeighbors(n_neighbors=10, metric='cosine')\n",
        "knn.fit(scaled_audio_features)\n",
        "song_index = 0 \n",
        "distances, indices = knn.kneighbors([scaled_audio_features[song_index]])\n",
        "recommendations = indices.flatten()[1:]\n",
        "for i in recommendations:\n",
        "    print(df.loc[i, 'song_name'])"
      ]
    },
    {
      "cell_type": "code",
      "execution_count": null,
      "metadata": {
        "colab": {
          "base_uri": "https://localhost:8080/"
        },
        "id": "qxiBZMiAqSSn",
        "outputId": "f94c912e-20df-4dab-d147-cd2b611c99b8"
      },
      "outputs": [
        {
          "output_type": "stream",
          "name": "stderr",
          "text": [
            "/usr/local/lib/python3.9/dist-packages/sklearn/cluster/_agglomerative.py:983: FutureWarning: Attribute `affinity` was deprecated in version 1.2 and will be removed in 1.4. Use `metric` instead\n",
            "  warnings.warn(\n"
          ]
        },
        {
          "output_type": "stream",
          "name": "stdout",
          "text": [
            "Cluster 1: ['Andromeda' 'Backpack' 'D(R)Own' ... 'Keep It Gangsta'\n",
            " \"Thuggin Til I'm Gone\" 'Love']\n",
            "Cluster 2: ['Mercury: Retrograde' 'Symbiote'\n",
            " 'ProductOfDrugs (Prod. The Virus and Antidote)' ... \"Daddy's Girl\" \"'94\"\n",
            " 'Born 2 Live']\n",
            "Cluster 3: ['Pathology' 'BRAINFOOD' 'Okay,ButThisIsTheLastTime' ...\n",
            " 'Girls Need Love (with Drake) - Remix' 'Bad for You (feat. Nicki Minaj)'\n",
            " \"When I'm Gone\"]\n",
            "Cluster 4: ['Coffin Wave' 'OhNo!' 'Claustrophobia' ... 'When the Sh-- Goes Down'\n",
            " 'Deep Inside' 'Change']\n",
            "Cluster 5: ['Sacrifice' 'Io sono qui' 'Hades' ... 'Life of a Sinner'\n",
            " \"I'm Sorry Baby (Remix) [feat. Wadz & Talkbox Pewee]\" \"Can't Hold On\"]\n"
          ]
        }
      ],
      "source": [
        "#Hierarchical Clustering\n",
        "from sklearn.cluster import AgglomerativeClustering\n",
        "\n",
        "audio_features = df1.iloc[:, 0:11].values\n",
        "scaler = StandardScaler()\n",
        "scaled_audio_features = scaler.fit_transform(audio_features)\n",
        "\n",
        "# Apply hierarchical clustering with 5 clusters\n",
        "model = AgglomerativeClustering(n_clusters=5, affinity='euclidean', linkage='ward')\n",
        "labels = model.fit_predict(scaled_audio_features)\n",
        "\n",
        "# Get the songs in each cluster\n",
        "for i in range(5):\n",
        "    cluster_songs = df1.loc[labels == i, 'song_name'].values\n",
        "    print(f'Cluster {i+1}: {cluster_songs}')\n"
      ]
    },
    {
      "cell_type": "code",
      "source": [
        "#Density-Based Clustering\n",
        "from sklearn.cluster import DBSCAN\n",
        "\n",
        "audio_features = df1.iloc[:, 0:11].values\n",
        "scaler = StandardScaler()\n",
        "scaled_audio_features = scaler.fit_transform(audio_features)\n",
        "\n",
        "# Apply density-based clustering with a minimum cluster size of 5\n",
        "model = DBSCAN(eps=0.5, min_samples=5, metric='euclidean')\n",
        "labels = model.fit_predict(scaled_audio_features)\n",
        "\n",
        "# Get the songs in each cluster\n",
        "unique_labels = np.unique(labels)\n",
        "for label in unique_labels:\n",
        "    if label == -1:\n",
        "        print(f'Noise: {np.sum(labels == label)} songs')\n",
        "    else:\n",
        "        cluster_songs = df1.loc[labels == label, 'song_name'].values\n",
        "        print(f'Cluster {label}: {cluster_songs}')\n"
      ],
      "metadata": {
        "colab": {
          "base_uri": "https://localhost:8080/"
        },
        "id": "8hcWG3Y0AGLd",
        "outputId": "878815dc-748a-40ca-f41c-bad5fe51464f"
      },
      "execution_count": null,
      "outputs": [
        {
          "output_type": "stream",
          "name": "stdout",
          "text": [
            "Noise: 18296 songs\n",
            "Cluster 0: ['Bi-Polar Freestyle' 'Took Her To The O' 'Free All The Opps'\n",
            " 'Bi-Polar Freestyle' 'Thumpin']\n",
            "Cluster 1: ['Misery Business' 'Pressure' 'Misery Business' \"The Kids Aren't Alright\"\n",
            " 'Have Faith In Me' 'Smells Like Teen Spirit' 'Smells Like Teen Spirit']\n",
            "Cluster 2: ['Move Along' 'Five Minutes to Midnight'\n",
            " \"Damned If I Do Ya (Damned If I Don't)\" 'Whoa Oh! (Me vs Everyone)'\n",
            " 'Kiss Me' 'Up off the Ground' 'Move Along' 'Five Minutes to Midnight']\n",
            "Cluster 3: ['Jamie All Over' 'Call Me Hopeless, but Not Romantic' 'Jamie All Over'\n",
            " 'Letters To You' 'Jamie All Over' 'Jamie All Over' 'Letters To You']\n",
            "Cluster 4: ['Dark Blue' 'My Friends Over You' 'Devil In Jersey City'\n",
            " 'Calling All Cars' 'My Friends Over You']\n",
            "Cluster 5: ['Three Cheers For Five Years' 'All Around Me' 'Take My Hand'\n",
            " 'All Around Me' 'Drugs & Candy']\n",
            "Cluster 6: [\"Cute Without The 'E' (Cut From The Team)\"\n",
            " 'Cute Without the \"E\" (Cut From the Team)' 'Let Me Go'\n",
            " \"Hate (I Really Don't Like You)\"\n",
            " \"Cute Without The 'E' (Cut From The Team)\" 'Graduate'\n",
            " 'Blank Space - Rock' 'Grenade' 'Let Me Go']\n",
            "Cluster 7: ['I Woke Up In A Car' 'I Woke Up In A Car' 'Over My Head (Cable Car)'\n",
            " 'Over My Head (The Fray cover)' 'All I Wear Is Black']\n",
            "Cluster 8: ['Where Is The Love?' 'Where Is The Love?' 'Where Is The Love?'\n",
            " 'Where Is The Love?' 'Where Is The Love?']\n"
          ]
        }
      ]
    },
    {
      "cell_type": "code",
      "source": [
        "#Spectral Clustering\n",
        "from sklearn.cluster import SpectralClustering\n",
        "\n",
        "audio_features = df1.iloc[:, 0:11].values\n",
        "scaler = StandardScaler()\n",
        "scaled_audio_features = scaler.fit_transform(audio_features)\n",
        "\n",
        "# Apply spectral clustering with 5 clusters\n",
        "model = SpectralClustering(n_clusters=5, affinity='nearest_neighbors', n_neighbors=10)\n",
        "labels = model.fit_predict(scaled_audio_features)\n",
        "\n",
        "# Get the songs in each cluster\n",
        "for i in range(5):\n",
        "    cluster_songs = df1.loc[labels == i, 'song_name'].values\n",
        "    print(f'Cluster {i+1}: {cluster_songs}')\n"
      ],
      "metadata": {
        "id": "LVmme8pCAnv_"
      },
      "execution_count": null,
      "outputs": []
    },
    {
      "cell_type": "code",
      "source": [
        "#Fuzzy C-Means algorithm:\n",
        "!pip install -U scikit-fuzzy\n",
        "!pip install fuzzy-c-means\n"
      ],
      "metadata": {
        "id": "MYz1y3sfAsmV"
      },
      "execution_count": null,
      "outputs": []
    },
    {
      "cell_type": "code",
      "source": [
        "from sklearn.cluster import KMeans\n",
        "import numpy as np\n",
        "from sklearn.metrics import pairwise_distances\n",
        "from sklearn.decomposition import PCA\n",
        "from fcmeans import FCM\n",
        "\n",
        "audio_features = df1.iloc[:, 0:11].values\n",
        "scaler = StandardScaler()\n",
        "scaled_audio_features = scaler.fit_transform(audio_features)\n",
        "\n",
        "# Apply PCA to reduce the dimensionality of the features\n",
        "pca = PCA(n_components=2)\n",
        "pca_audio_features = pca.fit_transform(scaled_audio_features)\n",
        "\n",
        "# Apply fuzzy clustering with 5 clusters and a fuzziness parameter of 2\n",
        "fcm = FCM(n_clusters=5, m=2)\n",
        "fcm.fit(pca_audio_features)\n",
        "labels = fcm.predict(pca_audio_features)\n",
        "\n",
        "# Get the songs in each cluster\n",
        "for i in range(5):\n",
        "    cluster_songs = df1.loc[labels == i, 'song_name'].values\n",
        "    print(f'Cluster {i+1}: {cluster_songs}')\n"
      ],
      "metadata": {
        "colab": {
          "base_uri": "https://localhost:8080/"
        },
        "id": "uxI9Uj7yBxmm",
        "outputId": "0d2fe1b7-3736-4d04-bbc1-b752e45a6f29"
      },
      "execution_count": null,
      "outputs": [
        {
          "output_type": "stream",
          "name": "stdout",
          "text": [
            "Cluster 1: ['Murder' 'OhNo!' 'Vengeance' ... 'Hold Tight' 'Mourn' 'Forever']\n",
            "Cluster 2: ['Mercury: Retrograde' 'Venom' 'Andromeda' ... \"It's LBC 2.0\"\n",
            " \"I'm Sorry Baby (Remix) [feat. Wadz & Talkbox Pewee]\" \"'94\"]\n",
            "Cluster 3: ['D(R)Own' \"High 'N Mighty\" 'BLUE JUICE' ... \"Daddy's Girl\" 'Born 2 Live'\n",
            " \"Can't Hold On\"]\n",
            "Cluster 4: ['Symbiote' 'ProductOfDrugs (Prod. The Virus and Antidote)'\n",
            " 'kamikaze (+ pulse)' ... 'Love' 'Deep Inside' 'Change']\n",
            "Cluster 5: ['Pathology' 'Gatteka' 'BRAINFOOD' ... 'Gold'\n",
            " 'Girls Need Love (with Drake) - Remix' 'All Day Chill']\n"
          ]
        }
      ]
    },
    {
      "cell_type": "code",
      "source": [],
      "metadata": {
        "id": "1h00Rhj7D1qW"
      },
      "execution_count": null,
      "outputs": []
    }
  ],
  "metadata": {
    "colab": {
      "provenance": []
    },
    "kernelspec": {
      "display_name": "Python 3",
      "name": "python3"
    },
    "language_info": {
      "name": "python"
    }
  },
  "nbformat": 4,
  "nbformat_minor": 0
}